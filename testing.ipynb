{
 "cells": [
  {
   "cell_type": "code",
   "execution_count": 1,
   "id": "87654d8e-3532-4138-ab88-8b92193f9fa7",
   "metadata": {},
   "outputs": [],
   "source": [
    "from time import sleep, time\n",
    "# automatically reload modules when they have changed\n",
    "%load_ext autoreload\n",
    "%autoreload 2\n",
    "\n",
    "from bot import *\n",
    "from src.brain import *\n",
    "from src.utils import *\n",
    "from src.chat import *\n",
    "from src.fight import *\n",
    "from src.graph import *\n",
    "from src.navigation import *\n",
    "from src.utils import *\n",
    "from src.vision import *\n",
    "from src.work import *\n",
    "%matplotlib inline\n",
    "\n",
    "pytesseract.pytesseract.tesseract_cmd = r\"C:\\Program Files\\Tesseract-OCR\\tesseract.exe\""
   ]
  },
  {
   "cell_type": "code",
   "execution_count": 6,
   "id": "84f50d66-d2d3-4317-9228-954b35311c0e",
   "metadata": {},
   "outputs": [
    {
     "data": {
      "text/plain": [
       "'5,10,'"
      ]
     },
     "execution_count": 6,
     "metadata": {},
     "output_type": "execute_result"
    }
   ],
   "source": [
    "pos = Navigation()\n",
    "FOCUS_DOFUS_SCREEN()\n",
    "print(pos.findPOS())\n",
    "pos.move('u')"
   ]
  },
  {
   "cell_type": "code",
   "execution_count": null,
   "id": "bae92157-02d1-4b8e-84ba-c781c99cd95c",
   "metadata": {},
   "outputs": [],
   "source": []
  }
 ],
 "metadata": {
  "kernelspec": {
   "display_name": "Python 3",
   "language": "python",
   "name": "python3"
  },
  "language_info": {
   "codemirror_mode": {
    "name": "ipython",
    "version": 3
   },
   "file_extension": ".py",
   "mimetype": "text/x-python",
   "name": "python",
   "nbconvert_exporter": "python",
   "pygments_lexer": "ipython3",
   "version": "3.8.8"
  }
 },
 "nbformat": 4,
 "nbformat_minor": 5
}

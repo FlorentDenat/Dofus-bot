{
 "cells": [
  {
   "cell_type": "code",
   "execution_count": 1,
   "id": "87654d8e-3532-4138-ab88-8b92193f9fa7",
   "metadata": {},
   "outputs": [],
   "source": [
    "from time import sleep, time\n",
    "# automatically reload modules when they have changed\n",
    "%load_ext autoreload\n",
    "%autoreload 2\n",
    "\n",
    "from bot import *\n",
    "from src.brain import *\n",
    "from src.utils import *\n",
    "from src.chat import *\n",
    "from src.fight import *\n",
    "from src.graph import *\n",
    "from src.navigation import *\n",
    "from src.utils import *\n",
    "from src.vision import *\n",
    "from src.work import *\n",
    "%matplotlib inline\n",
    "\n",
    "pytesseract.pytesseract.tesseract_cmd = r\"C:\\Program Files\\Tesseract-OCR\\tesseract.exe\""
   ]
  },
  {
   "cell_type": "code",
   "execution_count": 9,
   "id": "84f50d66-d2d3-4317-9228-954b35311c0e",
   "metadata": {},
   "outputs": [
    {
     "name": "stdout",
     "output_type": "stream",
     "text": [
      "(6, 10)\n",
      "Path found: [(6, 10), (5, 10), (5, 11)]\n"
     ]
    }
   ],
   "source": [
    "pos = Navigation()\n",
    "FOCUS_DOFUS_SCREEN()\n",
    "print(pos.find_POS())\n",
    "pos.move_to((5,11))"
   ]
  },
  {
   "cell_type": "code",
   "execution_count": null,
   "id": "1b0d973c-aec7-4657-97e8-df54e53b83c3",
   "metadata": {},
   "outputs": [],
   "source": []
  }
 ],
 "metadata": {
  "kernelspec": {
   "display_name": "Python 3",
   "language": "python",
   "name": "python3"
  },
  "language_info": {
   "codemirror_mode": {
    "name": "ipython",
    "version": 3
   },
   "file_extension": ".py",
   "mimetype": "text/x-python",
   "name": "python",
   "nbconvert_exporter": "python",
   "pygments_lexer": "ipython3",
   "version": "3.8.8"
  }
 },
 "nbformat": 4,
 "nbformat_minor": 5
}

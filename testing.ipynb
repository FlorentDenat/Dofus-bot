{
 "cells": [
  {
   "cell_type": "code",
   "execution_count": 194,
   "id": "87654d8e-3532-4138-ab88-8b92193f9fa7",
   "metadata": {},
   "outputs": [
    {
     "name": "stdout",
     "output_type": "stream",
     "text": [
      "The autoreload extension is already loaded. To reload it, use:\n",
      "  %reload_ext autoreload\n"
     ]
    }
   ],
   "source": [
    "from time import sleep, time\n",
    "# automatically reload modules when they have changed\n",
    "%load_ext autoreload\n",
    "%autoreload 2\n",
    "\n",
    "from bot import *\n",
    "from src.brain import *\n",
    "from src.chat import *\n",
    "from src.fight import *\n",
    "from src.navigation import *\n",
    "from src.utils import *\n",
    "from src.vision import *\n",
    "from src.work import *\n",
    "%matplotlib inline\n",
    "\n",
    "pytesseract.pytesseract.tesseract_cmd = r\"C:\\Program Files\\Tesseract-OCR\\tesseract.exe\""
   ]
  },
  {
   "cell_type": "code",
   "execution_count": 195,
   "id": "84f50d66-d2d3-4317-9228-954b35311c0e",
   "metadata": {},
   "outputs": [
    {
     "data": {
      "text/plain": [
       "'-2,-29,'"
      ]
     },
     "execution_count": 195,
     "metadata": {},
     "output_type": "execute_result"
    }
   ],
   "source": [
    "FOCUS_DOFUS_SCREEN()\n",
    "findPOS()"
   ]
  },
  {
   "cell_type": "code",
   "execution_count": null,
   "id": "259361e5-67c7-419f-b881-867db0149668",
   "metadata": {},
   "outputs": [],
   "source": []
  }
 ],
 "metadata": {
  "kernelspec": {
   "display_name": "Python 3",
   "language": "python",
   "name": "python3"
  },
  "language_info": {
   "codemirror_mode": {
    "name": "ipython",
    "version": 3
   },
   "file_extension": ".py",
   "mimetype": "text/x-python",
   "name": "python",
   "nbconvert_exporter": "python",
   "pygments_lexer": "ipython3",
   "version": "3.8.8"
  }
 },
 "nbformat": 4,
 "nbformat_minor": 5
}
